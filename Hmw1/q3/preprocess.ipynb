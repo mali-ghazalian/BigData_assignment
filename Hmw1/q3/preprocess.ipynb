{
 "cells": [
  {
   "cell_type": "code",
   "execution_count": 1,
   "metadata": {},
   "outputs": [],
   "source": [
    "import os\n",
    "import cv2\n",
    "import numpy as np\n",
    "import pandas as pd\n",
    "import dask.dataframe as dd\n",
    "from dask.distributed import Client"
   ]
  },
  {
   "cell_type": "code",
   "execution_count": null,
   "metadata": {},
   "outputs": [],
   "source": [
    "# Start a Dask client\n",
    "client = Client(n_workers=2, threads_per_worker=2)"
   ]
  },
  {
   "cell_type": "code",
   "execution_count": 2,
   "metadata": {},
   "outputs": [],
   "source": [
    "def euclidean_distance(vec1, vec2):\n",
    "    vec1 = np.array(vec1)\n",
    "    vec2 = np.array(vec2)\n",
    "    \n",
    "    distance = np.linalg.norm(vec1 - vec2)\n",
    "    \n",
    "    return distance"
   ]
  },
  {
   "cell_type": "code",
   "execution_count": 31,
   "metadata": {},
   "outputs": [],
   "source": [
    "def process_image(image_path):\n",
    "    \n",
    "    resized_image = cv2.resize(cv2.imread(image_path), (128, 128))\n",
    "    flattened_image = np.array(resized_image).flatten()\n",
    "    \n",
    "    return flattened_image"
   ]
  },
  {
   "cell_type": "code",
   "execution_count": null,
   "metadata": {},
   "outputs": [],
   "source": [
    "def get_image_id(image_path):\n",
    "    image_id = os.path.splitext(os.path.basename(image_path))[0]\n",
    "    \n",
    "    return image_id"
   ]
  },
  {
   "cell_type": "code",
   "execution_count": null,
   "metadata": {},
   "outputs": [],
   "source": [
    "def process_partition(df):\n",
    "    return df['ImagePaths'].apply(lambda x: process_image(x))"
   ]
  },
  {
   "cell_type": "code",
   "execution_count": 10,
   "metadata": {},
   "outputs": [],
   "source": [
    "image_dir = './images'\n",
    "image_paths = [os.path.join(image_dir, img_name) for img_name in os.listdir(image_dir)]\n",
    "df = pd.DataFrame({'ImagePaths': image_paths})\n",
    "ddf = dd.from_pandas(df, npartitions=10)\n",
    "ddf['flattened_image'] = ddf.map_partitions(process_partition, meta=('flattened_image', 'object'))\n",
    "ddf['ID'] = ddf.map_partitions(lambda df: df['ImagePaths'].apply(lambda x: get_image_id(x)), meta=('ID', 'str'))\n",
    "ddf = ddf.drop(labels=['ImagePaths'],axis=1)"
   ]
  },
  {
   "cell_type": "code",
   "execution_count": null,
   "metadata": {},
   "outputs": [],
   "source": [
    "output_dask_dir = './flattened_images'\n",
    "ddf.to_csv(f'{output_dask_dir}/ddf*.csv', index = False)"
   ]
  }
 ],
 "metadata": {
  "kernelspec": {
   "display_name": "Python 3",
   "language": "python",
   "name": "python3"
  },
  "language_info": {
   "codemirror_mode": {
    "name": "ipython",
    "version": 3
   },
   "file_extension": ".py",
   "mimetype": "text/x-python",
   "name": "python",
   "nbconvert_exporter": "python",
   "pygments_lexer": "ipython3",
   "version": "3.11.3"
  }
 },
 "nbformat": 4,
 "nbformat_minor": 2
}
