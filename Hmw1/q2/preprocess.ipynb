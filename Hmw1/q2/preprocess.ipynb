{
 "cells": [
  {
   "cell_type": "code",
   "execution_count": 16,
   "metadata": {},
   "outputs": [],
   "source": [
    "import json"
   ]
  },
  {
   "cell_type": "code",
   "execution_count": 5,
   "metadata": {},
   "outputs": [
    {
     "name": "stdout",
     "output_type": "stream",
     "text": [
      "875713\n"
     ]
    }
   ],
   "source": [
    "input_file = 'web-Google.txt'\n",
    "\n",
    "nodes = set()\n",
    "\n",
    "with open(input_file, 'r') as out_file:\n",
    "    data = [x.split() for x in out_file.read().splitlines()]\n",
    "    \n",
    "for line in data:\n",
    "    from_node, to_node = line\n",
    "    nodes.add(from_node)\n",
    "    nodes.add(to_node)\n",
    "\n",
    "nodes_list = list(nodes)\n",
    "print(len(nodes_list))"
   ]
  },
  {
   "cell_type": "code",
   "execution_count": 11,
   "metadata": {},
   "outputs": [],
   "source": [
    "adj_list = {}\n",
    "for line in data:\n",
    "    adj_list[int(line[0])] = [] \n",
    "\n",
    "        \n",
    "for line in data:\n",
    "    #check for dangling nodes\n",
    "    if line[1:] == []:\n",
    "        adj_list[int(line[0])] = [] \n",
    "    else:\n",
    "        adj_list[int(line[0])].append(int(line[1:][0]))"
   ]
  },
  {
   "cell_type": "code",
   "execution_count": 13,
   "metadata": {},
   "outputs": [
    {
     "name": "stdout",
     "output_type": "stream",
     "text": [
      "Length of adj list: 739454\n"
     ]
    }
   ],
   "source": [
    "print(f\"Length of adj list: {len(adj_list)}\")"
   ]
  },
  {
   "cell_type": "code",
   "execution_count": 14,
   "metadata": {},
   "outputs": [],
   "source": [
    "unique_node_count = len(adj_list.keys()) \n",
    "initial_pagerank = 1 / unique_node_count"
   ]
  },
  {
   "cell_type": "code",
   "execution_count": 15,
   "metadata": {},
   "outputs": [
    {
     "name": "stdout",
     "output_type": "stream",
     "text": [
      "739454\n"
     ]
    }
   ],
   "source": [
    "print(unique_node_count)"
   ]
  },
  {
   "cell_type": "code",
   "execution_count": 17,
   "metadata": {},
   "outputs": [],
   "source": [
    "with open(\"preprocessed_\" + input_file, \"wb+\") as out_file:\n",
    "    for _id, adj in adj_list.items():\n",
    "        \n",
    "        data = json.dumps({\"id\": _id, \"adjacency\": adj, \"pagerank\": initial_pagerank})\n",
    "        \n",
    "        out_file.write(data.encode('utf-8'))\n",
    "        out_file.write('\\n'.encode('utf-8'))"
   ]
  }
 ],
 "metadata": {
  "kernelspec": {
   "display_name": "Python 3",
   "language": "python",
   "name": "python3"
  },
  "language_info": {
   "codemirror_mode": {
    "name": "ipython",
    "version": 3
   },
   "file_extension": ".py",
   "mimetype": "text/x-python",
   "name": "python",
   "nbconvert_exporter": "python",
   "pygments_lexer": "ipython3",
   "version": "3.11.3"
  }
 },
 "nbformat": 4,
 "nbformat_minor": 2
}
